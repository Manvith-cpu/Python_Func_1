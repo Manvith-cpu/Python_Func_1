{
 "cells": [
  {
   "cell_type": "markdown",
   "id": "14cb257c-fa42-4954-b3ea-2f46c8d67538",
   "metadata": {},
   "source": [
    "## Write a python program to print the first 10 Fibonacci numbers using a while loop."
   ]
  },
  {
   "cell_type": "code",
   "execution_count": 9,
   "id": "f80d9e27-8987-4a8a-9e95-7b4f6a5132ee",
   "metadata": {},
   "outputs": [],
   "source": [
    "def fib():\n",
    "    a,b=0,1\n",
    "    n=0\n",
    "    while n<10:\n",
    "        yield a\n",
    "        a,b=b,a+b\n",
    "        n+=1"
   ]
  },
  {
   "cell_type": "code",
   "execution_count": 10,
   "id": "495e8170-a258-4b44-af46-b2d7b82beccd",
   "metadata": {},
   "outputs": [
    {
     "name": "stdout",
     "output_type": "stream",
     "text": [
      "0\n",
      "1\n",
      "1\n",
      "2\n",
      "3\n",
      "5\n",
      "8\n",
      "13\n",
      "21\n",
      "34\n"
     ]
    }
   ],
   "source": [
    "for i in fib():\n",
    "    print(i)"
   ]
  }
 ],
 "metadata": {
  "kernelspec": {
   "display_name": "Python 3 (ipykernel)",
   "language": "python",
   "name": "python3"
  },
  "language_info": {
   "codemirror_mode": {
    "name": "ipython",
    "version": 3
   },
   "file_extension": ".py",
   "mimetype": "text/x-python",
   "name": "python",
   "nbconvert_exporter": "python",
   "pygments_lexer": "ipython3",
   "version": "3.10.8"
  }
 },
 "nbformat": 4,
 "nbformat_minor": 5
}
