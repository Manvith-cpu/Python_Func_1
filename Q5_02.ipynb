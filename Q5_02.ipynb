{
 "cells": [
  {
   "cell_type": "markdown",
   "id": "aa008b29-2d0e-40ac-969c-7e6856904b0c",
   "metadata": {},
   "source": [
    "## Use the next() method to print the first 20 prime numbers"
   ]
  },
  {
   "cell_type": "code",
   "execution_count": 10,
   "id": "57129fbd-fc24-4476-a962-9ea0c761322d",
   "metadata": {},
   "outputs": [],
   "source": [
    "def prime_20():\n",
    "    l=[]\n",
    "    i=1\n",
    "    count=0\n",
    "    while count<20:\n",
    "        j=1\n",
    "        cnt=0\n",
    "        while j<=i:\n",
    "            if i%j==0:\n",
    "                cnt+=1\n",
    "            j+=1\n",
    "        if cnt==2:\n",
    "            l.append(i)\n",
    "            count+=1\n",
    "        i+=1\n",
    "    return l"
   ]
  },
  {
   "cell_type": "code",
   "execution_count": 11,
   "id": "d946fd83-6250-428a-97af-3df381ec9c9a",
   "metadata": {},
   "outputs": [
    {
     "name": "stdout",
     "output_type": "stream",
     "text": [
      "[2, 3, 5, 7, 11, 13, 17, 19, 23, 29, 31, 37, 41, 43, 47, 53, 59, 61, 67, 71]\n"
     ]
    }
   ],
   "source": [
    "print(prime_20())"
   ]
  },
  {
   "cell_type": "code",
   "execution_count": 12,
   "id": "e85ab4b4-5925-4afc-8044-8a4494440175",
   "metadata": {},
   "outputs": [],
   "source": [
    "l1=prime_20()"
   ]
  },
  {
   "cell_type": "code",
   "execution_count": 13,
   "id": "0e34d398-b16a-4020-8284-c9f5d39529ba",
   "metadata": {},
   "outputs": [],
   "source": [
    "x=iter(l1)"
   ]
  },
  {
   "cell_type": "code",
   "execution_count": 14,
   "id": "866b9780-8129-4ed0-981a-c64cfa37d5a4",
   "metadata": {},
   "outputs": [
    {
     "name": "stdout",
     "output_type": "stream",
     "text": [
      "2\n",
      "3\n",
      "5\n",
      "7\n",
      "11\n",
      "13\n",
      "17\n",
      "19\n",
      "23\n",
      "29\n",
      "31\n",
      "37\n",
      "41\n",
      "43\n",
      "47\n",
      "53\n",
      "59\n",
      "61\n",
      "67\n",
      "71\n"
     ]
    }
   ],
   "source": [
    "for i in l1:\n",
    "    print(next(x))"
   ]
  }
 ],
 "metadata": {
  "kernelspec": {
   "display_name": "Python 3 (ipykernel)",
   "language": "python",
   "name": "python3"
  },
  "language_info": {
   "codemirror_mode": {
    "name": "ipython",
    "version": 3
   },
   "file_extension": ".py",
   "mimetype": "text/x-python",
   "name": "python",
   "nbconvert_exporter": "python",
   "pygments_lexer": "ipython3",
   "version": "3.10.8"
  }
 },
 "nbformat": 4,
 "nbformat_minor": 5
}
