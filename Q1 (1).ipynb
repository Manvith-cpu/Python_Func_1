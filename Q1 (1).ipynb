{
 "cells": [
  {
   "cell_type": "markdown",
   "id": "4abcabd8-2d1a-44df-8f68-91b41b4e6a0a",
   "metadata": {},
   "source": [
    "## def is the keyword used to create a function"
   ]
  },
  {
   "cell_type": "code",
   "execution_count": 8,
   "id": "2905e193-e0c1-469b-8ffd-98c93d34b90e",
   "metadata": {},
   "outputs": [],
   "source": [
    "def odd():\n",
    "    l1=[]\n",
    "    for i in range(25):\n",
    "        if i%2!=0:\n",
    "            l1.append(i)\n",
    "    return l1"
   ]
  },
  {
   "cell_type": "code",
   "execution_count": 9,
   "id": "c56eacab-219a-4a96-8c7e-253db53755e6",
   "metadata": {},
   "outputs": [
    {
     "data": {
      "text/plain": [
       "[1, 3, 5, 7, 9, 11, 13, 15, 17, 19, 21, 23]"
      ]
     },
     "execution_count": 9,
     "metadata": {},
     "output_type": "execute_result"
    }
   ],
   "source": [
    "odd()"
   ]
  }
 ],
 "metadata": {
  "kernelspec": {
   "display_name": "Python 3 (ipykernel)",
   "language": "python",
   "name": "python3"
  },
  "language_info": {
   "codemirror_mode": {
    "name": "ipython",
    "version": 3
   },
   "file_extension": ".py",
   "mimetype": "text/x-python",
   "name": "python",
   "nbconvert_exporter": "python",
   "pygments_lexer": "ipython3",
   "version": "3.10.8"
  }
 },
 "nbformat": 4,
 "nbformat_minor": 5
}
