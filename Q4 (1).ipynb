{
 "cells": [
  {
   "cell_type": "markdown",
   "id": "f761ea67-b86e-4800-ae8a-f142ac101217",
   "metadata": {},
   "source": [
    "## A Generator in Python is a function that returns an iterator using the Yield keyword.\n",
    "## The yield keyword is used to create a generator gunction"
   ]
  },
  {
   "cell_type": "code",
   "execution_count": 1,
   "id": "bcc9f372-ec63-4bb5-b755-0020e73e8b4a",
   "metadata": {},
   "outputs": [],
   "source": [
    "l=[2,4,6,8,10]"
   ]
  },
  {
   "cell_type": "code",
   "execution_count": 3,
   "id": "7e7a9c67-1aa0-4493-b205-4bd4fb7b95af",
   "metadata": {},
   "outputs": [],
   "source": [
    "def test(l):\n",
    "    for i in l:\n",
    "        yield(i**2)"
   ]
  },
  {
   "cell_type": "code",
   "execution_count": 4,
   "id": "450e839d-0a3f-4d03-97e0-4f06adc4f6ea",
   "metadata": {},
   "outputs": [
    {
     "data": {
      "text/plain": [
       "<generator object test at 0x7fd8437a5a80>"
      ]
     },
     "execution_count": 4,
     "metadata": {},
     "output_type": "execute_result"
    }
   ],
   "source": [
    "test(l)"
   ]
  },
  {
   "cell_type": "code",
   "execution_count": 5,
   "id": "9948936a-3392-4bfb-8296-9f5f960af199",
   "metadata": {},
   "outputs": [
    {
     "data": {
      "text/plain": [
       "[4, 16, 36, 64, 100]"
      ]
     },
     "execution_count": 5,
     "metadata": {},
     "output_type": "execute_result"
    }
   ],
   "source": [
    "list(test(l))"
   ]
  }
 ],
 "metadata": {
  "kernelspec": {
   "display_name": "Python 3 (ipykernel)",
   "language": "python",
   "name": "python3"
  },
  "language_info": {
   "codemirror_mode": {
    "name": "ipython",
    "version": 3
   },
   "file_extension": ".py",
   "mimetype": "text/x-python",
   "name": "python",
   "nbconvert_exporter": "python",
   "pygments_lexer": "ipython3",
   "version": "3.10.8"
  }
 },
 "nbformat": 4,
 "nbformat_minor": 5
}
