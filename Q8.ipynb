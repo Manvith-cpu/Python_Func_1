{
 "cells": [
  {
   "cell_type": "markdown",
   "id": "61effa22-1e05-48e9-b116-02e0cb49bf2b",
   "metadata": {},
   "source": [
    "## Write a python program to check whether a given number is Palindrome or not using a while loop."
   ]
  },
  {
   "cell_type": "code",
   "execution_count": 12,
   "id": "6d9b9fc4-d7bf-443e-b02f-1e5e7cea6b0a",
   "metadata": {},
   "outputs": [],
   "source": [
    "def palindrome():\n",
    "    n=int(input())\n",
    "    x=n\n",
    "    rev=0\n",
    "    while x!=0:\n",
    "        r=x%10\n",
    "        rev=rev*10+r\n",
    "        x//=10\n",
    "    if rev==n:\n",
    "        print(\"The given number is Palindrome\")"
   ]
  },
  {
   "cell_type": "code",
   "execution_count": 13,
   "id": "4f301e02-07e9-41d2-b020-319a563c3abc",
   "metadata": {},
   "outputs": [
    {
     "name": "stdin",
     "output_type": "stream",
     "text": [
      " 12321\n"
     ]
    },
    {
     "name": "stdout",
     "output_type": "stream",
     "text": [
      "The given number is Palindrome\n"
     ]
    }
   ],
   "source": [
    "palindrome()"
   ]
  }
 ],
 "metadata": {
  "kernelspec": {
   "display_name": "Python 3 (ipykernel)",
   "language": "python",
   "name": "python3"
  },
  "language_info": {
   "codemirror_mode": {
    "name": "ipython",
    "version": 3
   },
   "file_extension": ".py",
   "mimetype": "text/x-python",
   "name": "python",
   "nbconvert_exporter": "python",
   "pygments_lexer": "ipython3",
   "version": "3.10.8"
  }
 },
 "nbformat": 4,
 "nbformat_minor": 5
}
