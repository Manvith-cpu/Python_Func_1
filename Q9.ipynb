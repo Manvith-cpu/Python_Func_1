{
 "cells": [
  {
   "cell_type": "code",
   "execution_count": 2,
   "id": "c20b1fb0-724c-4f37-9a0b-52a96ab3b0b8",
   "metadata": {},
   "outputs": [],
   "source": [
    "l=[x for x in range(101) if x%2!=0]"
   ]
  },
  {
   "cell_type": "code",
   "execution_count": 5,
   "id": "254b1ab0-6372-48cc-81a8-7c80c5f8d141",
   "metadata": {},
   "outputs": [
    {
     "name": "stdout",
     "output_type": "stream",
     "text": [
      "[1, 3, 5, 7, 9, 11, 13, 15, 17, 19, 21, 23, 25, 27, 29, 31, 33, 35, 37, 39, 41, 43, 45, 47, 49, 51, 53, 55, 57, 59, 61, 63, 65, 67, 69, 71, 73, 75, 77, 79, 81, 83, 85, 87, 89, 91, 93, 95, 97, 99]"
     ]
    }
   ],
   "source": [
    "print(l,end=\"\")"
   ]
  }
 ],
 "metadata": {
  "kernelspec": {
   "display_name": "Python 3 (ipykernel)",
   "language": "python",
   "name": "python3"
  },
  "language_info": {
   "codemirror_mode": {
    "name": "ipython",
    "version": 3
   },
   "file_extension": ".py",
   "mimetype": "text/x-python",
   "name": "python",
   "nbconvert_exporter": "python",
   "pygments_lexer": "ipython3",
   "version": "3.10.8"
  }
 },
 "nbformat": 4,
 "nbformat_minor": 5
}
