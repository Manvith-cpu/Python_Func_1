{
 "cells": [
  {
   "cell_type": "markdown",
   "id": "7c68be36-0950-430b-8c4d-134f4dc5977c",
   "metadata": {},
   "source": [
    "## iterator in python is an object that contains countable elements that can be iterated upon"
   ]
  },
  {
   "cell_type": "code",
   "execution_count": 24,
   "id": "29ee219b-b3ec-4efc-83b5-39647130611c",
   "metadata": {},
   "outputs": [],
   "source": [
    "l=[2,4,6,8,10,12,14,16,18,20]"
   ]
  },
  {
   "cell_type": "code",
   "execution_count": 25,
   "id": "a0bd2973-845f-4ae9-be1d-26b6d0c7ebb8",
   "metadata": {},
   "outputs": [],
   "source": [
    "l1=l[:5]"
   ]
  },
  {
   "cell_type": "code",
   "execution_count": 26,
   "id": "5a04ecd5-0c6a-4c12-8cce-41702c23eac6",
   "metadata": {},
   "outputs": [],
   "source": [
    "c=iter(l1)"
   ]
  },
  {
   "cell_type": "code",
   "execution_count": 27,
   "id": "b3833a5d-7121-46bb-a16d-85741edf4c0b",
   "metadata": {},
   "outputs": [
    {
     "name": "stdout",
     "output_type": "stream",
     "text": [
      "2\n",
      "4\n",
      "6\n",
      "8\n",
      "10\n"
     ]
    }
   ],
   "source": [
    "for i in l1:\n",
    "    print(next(c))"
   ]
  }
 ],
 "metadata": {
  "kernelspec": {
   "display_name": "Python 3 (ipykernel)",
   "language": "python",
   "name": "python3"
  },
  "language_info": {
   "codemirror_mode": {
    "name": "ipython",
    "version": 3
   },
   "file_extension": ".py",
   "mimetype": "text/x-python",
   "name": "python",
   "nbconvert_exporter": "python",
   "pygments_lexer": "ipython3",
   "version": "3.10.8"
  }
 },
 "nbformat": 4,
 "nbformat_minor": 5
}
