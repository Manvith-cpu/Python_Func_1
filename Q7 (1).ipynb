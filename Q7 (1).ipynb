{
 "cells": [
  {
   "cell_type": "markdown",
   "id": "50a08a9c-8516-42fd-a254-fafc5dbd5912",
   "metadata": {},
   "source": [
    "## Write a List Comprehension to iterate through the given string: ‘pwskills’.\n",
    "Expected output: ['p', 'w', 's', 'k', 'i', 'l', 'l', 's']"
   ]
  },
  {
   "cell_type": "code",
   "execution_count": 1,
   "id": "44323333-2771-4b81-8450-c99bea8462d6",
   "metadata": {},
   "outputs": [],
   "source": [
    "s=\"pwskills\""
   ]
  },
  {
   "cell_type": "code",
   "execution_count": 2,
   "id": "91ff249d-e49b-42e2-8680-4c4b27ece1ed",
   "metadata": {},
   "outputs": [],
   "source": [
    "l=[x for x in s]"
   ]
  },
  {
   "cell_type": "code",
   "execution_count": 3,
   "id": "855ea698-4e37-489d-a67c-8650f9fe87bf",
   "metadata": {},
   "outputs": [
    {
     "data": {
      "text/plain": [
       "['p', 'w', 's', 'k', 'i', 'l', 'l', 's']"
      ]
     },
     "execution_count": 3,
     "metadata": {},
     "output_type": "execute_result"
    }
   ],
   "source": [
    "l"
   ]
  }
 ],
 "metadata": {
  "kernelspec": {
   "display_name": "Python 3 (ipykernel)",
   "language": "python",
   "name": "python3"
  },
  "language_info": {
   "codemirror_mode": {
    "name": "ipython",
    "version": 3
   },
   "file_extension": ".py",
   "mimetype": "text/x-python",
   "name": "python",
   "nbconvert_exporter": "python",
   "pygments_lexer": "ipython3",
   "version": "3.10.8"
  }
 },
 "nbformat": 4,
 "nbformat_minor": 5
}
